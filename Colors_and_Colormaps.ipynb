{
 "cells": [
  {
   "cell_type": "markdown",
   "metadata": {},
   "source": [
    "#  Colors and Colormaps"
   ]
  },
  {
   "cell_type": "code",
   "execution_count": 1,
   "metadata": {},
   "outputs": [],
   "source": [
    "import numpy as np\n",
    "from random import shuffle\n",
    "from algorithm_visualizer import alvito\n",
    "from utils import random_array\n",
    "import matplotlib.pyplot as plt\n",
    "from IPython.display import HTML, display\n",
    "from IPython.utils import io"
   ]
  },
  {
   "cell_type": "markdown",
   "metadata": {},
   "source": [
    "## Colors\n",
    "\n",
    "All the named colors in matplotlib, read more about them [here](https://matplotlib.org/examples/color/named_colors.html).\n",
    "\n",
    "![](images/named_colors.png)"
   ]
  },
  {
   "cell_type": "markdown",
   "metadata": {},
   "source": [
    "## Colormaps\n",
    "In this notebook we are gonna take a look at the different built-in colormaps in \n",
    "matplotlib. You can find more details about the colormaps [here](https://matplotlib.org/tutorials/colors/colormaps.html)."
   ]
  },
  {
   "cell_type": "code",
   "execution_count": 2,
   "metadata": {},
   "outputs": [],
   "source": [
    "avo = alvito()\n",
    "avo.fps = 1\n",
    "avo.show_xlable = False\n",
    "avo.title_fontsize = 9\n",
    "avo.rectangle_linewidth = 2\n",
    "avo.dpi = 80\n",
    "\n",
    "avo.save_dir = 'cmap_gifs/'\n",
    "avo.custom_save_name = True\n",
    "\n",
    "shape = (10,1)\n",
    "array = random_array(shape)\n",
    "\n",
    "with io.capture_output() as captured: # supressing output when looping over all the cmaps\n",
    "    for cmap_name in plt.colormaps():\n",
    "        avo.colormap = cmap_name\n",
    "        avo.save_name = cmap_name\n",
    "        avo.insertionSort(array, cmap_name)"
   ]
  },
  {
   "cell_type": "code",
   "execution_count": 3,
   "metadata": {},
   "outputs": [
    {
     "data": {
      "text/html": [
       "<table><tr><td><img src='cmap_gifs/Accent.gif'></td><td><img src='cmap_gifs/Accent_r.gif'></td><td><img src='cmap_gifs/Blues.gif'></td><td><img src='cmap_gifs/Blues_r.gif'></td><td><img src='cmap_gifs/BrBG.gif'></td><td><img src='cmap_gifs/BrBG_r.gif'></td><td><img src='cmap_gifs/BuGn.gif'></td><td><img src='cmap_gifs/BuGn_r.gif'></td><td><img src='cmap_gifs/BuPu.gif'></td><td><img src='cmap_gifs/BuPu_r.gif'></td><td><img src='cmap_gifs/CMRmap.gif'></td></tr></table>"
      ],
      "text/plain": [
       "<IPython.core.display.HTML object>"
      ]
     },
     "metadata": {},
     "output_type": "display_data"
    },
    {
     "data": {
      "text/html": [
       "<table><tr><td><img src='cmap_gifs/CMRmap_r.gif'></td><td><img src='cmap_gifs/Dark2.gif'></td><td><img src='cmap_gifs/Dark2_r.gif'></td><td><img src='cmap_gifs/GnBu.gif'></td><td><img src='cmap_gifs/GnBu_r.gif'></td><td><img src='cmap_gifs/Greens.gif'></td><td><img src='cmap_gifs/Greens_r.gif'></td><td><img src='cmap_gifs/Greys.gif'></td><td><img src='cmap_gifs/Greys_r.gif'></td><td><img src='cmap_gifs/OrRd.gif'></td><td><img src='cmap_gifs/OrRd_r.gif'></td></tr></table>"
      ],
      "text/plain": [
       "<IPython.core.display.HTML object>"
      ]
     },
     "metadata": {},
     "output_type": "display_data"
    },
    {
     "data": {
      "text/html": [
       "<table><tr><td><img src='cmap_gifs/Oranges.gif'></td><td><img src='cmap_gifs/Oranges_r.gif'></td><td><img src='cmap_gifs/PRGn.gif'></td><td><img src='cmap_gifs/PRGn_r.gif'></td><td><img src='cmap_gifs/Paired.gif'></td><td><img src='cmap_gifs/Paired_r.gif'></td><td><img src='cmap_gifs/Pastel1.gif'></td><td><img src='cmap_gifs/Pastel1_r.gif'></td><td><img src='cmap_gifs/Pastel2.gif'></td><td><img src='cmap_gifs/Pastel2_r.gif'></td><td><img src='cmap_gifs/PiYG.gif'></td></tr></table>"
      ],
      "text/plain": [
       "<IPython.core.display.HTML object>"
      ]
     },
     "metadata": {},
     "output_type": "display_data"
    },
    {
     "data": {
      "text/html": [
       "<table><tr><td><img src='cmap_gifs/PiYG_r.gif'></td><td><img src='cmap_gifs/PuBu.gif'></td><td><img src='cmap_gifs/PuBuGn.gif'></td><td><img src='cmap_gifs/PuBuGn_r.gif'></td><td><img src='cmap_gifs/PuBu_r.gif'></td><td><img src='cmap_gifs/PuOr.gif'></td><td><img src='cmap_gifs/PuOr_r.gif'></td><td><img src='cmap_gifs/PuRd.gif'></td><td><img src='cmap_gifs/PuRd_r.gif'></td><td><img src='cmap_gifs/Purples.gif'></td><td><img src='cmap_gifs/Purples_r.gif'></td></tr></table>"
      ],
      "text/plain": [
       "<IPython.core.display.HTML object>"
      ]
     },
     "metadata": {},
     "output_type": "display_data"
    },
    {
     "data": {
      "text/html": [
       "<table><tr><td><img src='cmap_gifs/RdBu.gif'></td><td><img src='cmap_gifs/RdBu_r.gif'></td><td><img src='cmap_gifs/RdGy.gif'></td><td><img src='cmap_gifs/RdGy_r.gif'></td><td><img src='cmap_gifs/RdPu.gif'></td><td><img src='cmap_gifs/RdPu_r.gif'></td><td><img src='cmap_gifs/RdYlBu.gif'></td><td><img src='cmap_gifs/RdYlBu_r.gif'></td><td><img src='cmap_gifs/RdYlGn.gif'></td><td><img src='cmap_gifs/RdYlGn_r.gif'></td><td><img src='cmap_gifs/Reds.gif'></td></tr></table>"
      ],
      "text/plain": [
       "<IPython.core.display.HTML object>"
      ]
     },
     "metadata": {},
     "output_type": "display_data"
    },
    {
     "data": {
      "text/html": [
       "<table><tr><td><img src='cmap_gifs/Reds_r.gif'></td><td><img src='cmap_gifs/Set1.gif'></td><td><img src='cmap_gifs/Set1_r.gif'></td><td><img src='cmap_gifs/Set2.gif'></td><td><img src='cmap_gifs/Set2_r.gif'></td><td><img src='cmap_gifs/Set3.gif'></td><td><img src='cmap_gifs/Set3_r.gif'></td><td><img src='cmap_gifs/Spectral.gif'></td><td><img src='cmap_gifs/Spectral_r.gif'></td><td><img src='cmap_gifs/Wistia.gif'></td><td><img src='cmap_gifs/Wistia_r.gif'></td></tr></table>"
      ],
      "text/plain": [
       "<IPython.core.display.HTML object>"
      ]
     },
     "metadata": {},
     "output_type": "display_data"
    },
    {
     "data": {
      "text/html": [
       "<table><tr><td><img src='cmap_gifs/YlGn.gif'></td><td><img src='cmap_gifs/YlGnBu.gif'></td><td><img src='cmap_gifs/YlGnBu_r.gif'></td><td><img src='cmap_gifs/YlGn_r.gif'></td><td><img src='cmap_gifs/YlOrBr.gif'></td><td><img src='cmap_gifs/YlOrBr_r.gif'></td><td><img src='cmap_gifs/YlOrRd.gif'></td><td><img src='cmap_gifs/YlOrRd_r.gif'></td><td><img src='cmap_gifs/afmhot.gif'></td><td><img src='cmap_gifs/afmhot_r.gif'></td><td><img src='cmap_gifs/autumn.gif'></td></tr></table>"
      ],
      "text/plain": [
       "<IPython.core.display.HTML object>"
      ]
     },
     "metadata": {},
     "output_type": "display_data"
    },
    {
     "data": {
      "text/html": [
       "<table><tr><td><img src='cmap_gifs/autumn_r.gif'></td><td><img src='cmap_gifs/binary.gif'></td><td><img src='cmap_gifs/binary_r.gif'></td><td><img src='cmap_gifs/bone.gif'></td><td><img src='cmap_gifs/bone_r.gif'></td><td><img src='cmap_gifs/brg.gif'></td><td><img src='cmap_gifs/brg_r.gif'></td><td><img src='cmap_gifs/bwr.gif'></td><td><img src='cmap_gifs/bwr_r.gif'></td><td><img src='cmap_gifs/cividis.gif'></td><td><img src='cmap_gifs/cividis_r.gif'></td></tr></table>"
      ],
      "text/plain": [
       "<IPython.core.display.HTML object>"
      ]
     },
     "metadata": {},
     "output_type": "display_data"
    },
    {
     "data": {
      "text/html": [
       "<table><tr><td><img src='cmap_gifs/cool.gif'></td><td><img src='cmap_gifs/cool_r.gif'></td><td><img src='cmap_gifs/coolwarm.gif'></td><td><img src='cmap_gifs/coolwarm_r.gif'></td><td><img src='cmap_gifs/copper.gif'></td><td><img src='cmap_gifs/copper_r.gif'></td><td><img src='cmap_gifs/cubehelix.gif'></td><td><img src='cmap_gifs/cubehelix_r.gif'></td><td><img src='cmap_gifs/flag.gif'></td><td><img src='cmap_gifs/flag_r.gif'></td><td><img src='cmap_gifs/gist_earth.gif'></td></tr></table>"
      ],
      "text/plain": [
       "<IPython.core.display.HTML object>"
      ]
     },
     "metadata": {},
     "output_type": "display_data"
    },
    {
     "data": {
      "text/html": [
       "<table><tr><td><img src='cmap_gifs/gist_earth_r.gif'></td><td><img src='cmap_gifs/gist_gray.gif'></td><td><img src='cmap_gifs/gist_gray_r.gif'></td><td><img src='cmap_gifs/gist_heat.gif'></td><td><img src='cmap_gifs/gist_heat_r.gif'></td><td><img src='cmap_gifs/gist_ncar.gif'></td><td><img src='cmap_gifs/gist_ncar_r.gif'></td><td><img src='cmap_gifs/gist_rainbow.gif'></td><td><img src='cmap_gifs/gist_rainbow_r.gif'></td><td><img src='cmap_gifs/gist_stern.gif'></td><td><img src='cmap_gifs/gist_stern_r.gif'></td></tr></table>"
      ],
      "text/plain": [
       "<IPython.core.display.HTML object>"
      ]
     },
     "metadata": {},
     "output_type": "display_data"
    },
    {
     "data": {
      "text/html": [
       "<table><tr><td><img src='cmap_gifs/gist_yarg.gif'></td><td><img src='cmap_gifs/gist_yarg_r.gif'></td><td><img src='cmap_gifs/gnuplot.gif'></td><td><img src='cmap_gifs/gnuplot2.gif'></td><td><img src='cmap_gifs/gnuplot2_r.gif'></td><td><img src='cmap_gifs/gnuplot_r.gif'></td><td><img src='cmap_gifs/gray.gif'></td><td><img src='cmap_gifs/gray_r.gif'></td><td><img src='cmap_gifs/hot.gif'></td><td><img src='cmap_gifs/hot_r.gif'></td><td><img src='cmap_gifs/hsv.gif'></td></tr></table>"
      ],
      "text/plain": [
       "<IPython.core.display.HTML object>"
      ]
     },
     "metadata": {},
     "output_type": "display_data"
    },
    {
     "data": {
      "text/html": [
       "<table><tr><td><img src='cmap_gifs/hsv_r.gif'></td><td><img src='cmap_gifs/icefire.gif'></td><td><img src='cmap_gifs/icefire_r.gif'></td><td><img src='cmap_gifs/inferno.gif'></td><td><img src='cmap_gifs/inferno_r.gif'></td><td><img src='cmap_gifs/jet.gif'></td><td><img src='cmap_gifs/jet_r.gif'></td><td><img src='cmap_gifs/magma.gif'></td><td><img src='cmap_gifs/magma_r.gif'></td><td><img src='cmap_gifs/mako.gif'></td><td><img src='cmap_gifs/mako_r.gif'></td></tr></table>"
      ],
      "text/plain": [
       "<IPython.core.display.HTML object>"
      ]
     },
     "metadata": {},
     "output_type": "display_data"
    },
    {
     "data": {
      "text/html": [
       "<table><tr><td><img src='cmap_gifs/nipy_spectral.gif'></td><td><img src='cmap_gifs/nipy_spectral_r.gif'></td><td><img src='cmap_gifs/ocean.gif'></td><td><img src='cmap_gifs/ocean_r.gif'></td><td><img src='cmap_gifs/pink.gif'></td><td><img src='cmap_gifs/pink_r.gif'></td><td><img src='cmap_gifs/plasma.gif'></td><td><img src='cmap_gifs/plasma_r.gif'></td><td><img src='cmap_gifs/prism.gif'></td><td><img src='cmap_gifs/prism_r.gif'></td><td><img src='cmap_gifs/rainbow.gif'></td></tr></table>"
      ],
      "text/plain": [
       "<IPython.core.display.HTML object>"
      ]
     },
     "metadata": {},
     "output_type": "display_data"
    },
    {
     "data": {
      "text/html": [
       "<table><tr><td><img src='cmap_gifs/rainbow_r.gif'></td><td><img src='cmap_gifs/rocket.gif'></td><td><img src='cmap_gifs/rocket_r.gif'></td><td><img src='cmap_gifs/seismic.gif'></td><td><img src='cmap_gifs/seismic_r.gif'></td><td><img src='cmap_gifs/spring.gif'></td><td><img src='cmap_gifs/spring_r.gif'></td><td><img src='cmap_gifs/summer.gif'></td><td><img src='cmap_gifs/summer_r.gif'></td><td><img src='cmap_gifs/tab10.gif'></td><td><img src='cmap_gifs/tab10_r.gif'></td></tr></table>"
      ],
      "text/plain": [
       "<IPython.core.display.HTML object>"
      ]
     },
     "metadata": {},
     "output_type": "display_data"
    },
    {
     "data": {
      "text/html": [
       "<table><tr><td><img src='cmap_gifs/tab20.gif'></td><td><img src='cmap_gifs/tab20_r.gif'></td><td><img src='cmap_gifs/tab20b.gif'></td><td><img src='cmap_gifs/tab20b_r.gif'></td><td><img src='cmap_gifs/tab20c.gif'></td><td><img src='cmap_gifs/tab20c_r.gif'></td><td><img src='cmap_gifs/terrain.gif'></td><td><img src='cmap_gifs/terrain_r.gif'></td><td><img src='cmap_gifs/twilight.gif'></td><td><img src='cmap_gifs/twilight_r.gif'></td><td><img src='cmap_gifs/twilight_shifted.gif'></td></tr></table>"
      ],
      "text/plain": [
       "<IPython.core.display.HTML object>"
      ]
     },
     "metadata": {},
     "output_type": "display_data"
    },
    {
     "data": {
      "text/html": [
       "<table><tr><td><img src='cmap_gifs/twilight_shifted_r.gif'></td><td><img src='cmap_gifs/viridis.gif'></td><td><img src='cmap_gifs/viridis_r.gif'></td><td><img src='cmap_gifs/vlag.gif'></td><td><img src='cmap_gifs/vlag_r.gif'></td><td><img src='cmap_gifs/winter.gif'></td><td><img src='cmap_gifs/winter_r.gif'></td></tr></table>"
      ],
      "text/plain": [
       "<IPython.core.display.HTML object>"
      ]
     },
     "metadata": {},
     "output_type": "display_data"
    }
   ],
   "source": [
    "for i in range(0,len(plt.colormaps()),11):\n",
    "    display_sting = \"<table><tr>\"\n",
    "    for cmap in plt.colormaps()[i:i+11]:\n",
    "        display_sting += f'<td><img src=\\'cmap_gifs/{cmap}.gif\\'></td>'\n",
    "    display_sting += \"</tr></table>\"\n",
    "    display(HTML(display_sting))"
   ]
  }
 ],
 "metadata": {
  "kernelspec": {
   "display_name": "Python 3",
   "language": "python",
   "name": "python3"
  },
  "language_info": {
   "codemirror_mode": {
    "name": "ipython",
    "version": 3
   },
   "file_extension": ".py",
   "mimetype": "text/x-python",
   "name": "python",
   "nbconvert_exporter": "python",
   "pygments_lexer": "ipython3",
   "version": "3.7.1"
  }
 },
 "nbformat": 4,
 "nbformat_minor": 2
}
