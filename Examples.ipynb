{
 "cells": [
  {
   "cell_type": "code",
   "execution_count": 1,
   "metadata": {},
   "outputs": [],
   "source": [
    "from algorithm_visualizer import algopy\n",
    "from utils import random_array"
   ]
  },
  {
   "cell_type": "code",
   "execution_count": 2,
   "metadata": {},
   "outputs": [
    {
     "name": "stderr",
     "output_type": "stream",
     "text": [
      "100%|██████████| 19/19 [00:31<00:00,  1.79it/s]\n"
     ]
    }
   ],
   "source": [
    "ap = algopy()\n",
    "ap.custom_save_name = True\n",
    "ap.save_name = 'bubble_sort_list'\n",
    "ap.fps = 1\n",
    "ap.xlable_fontsize = 12\n",
    "ap.title_fontsize = 12\n",
    "ap.bubbleSort([3,2,75,90,8,9,1,10,4,5,7,6,34,21,5,67,12,54,23,1])"
   ]
  },
  {
   "cell_type": "markdown",
   "metadata": {},
   "source": [
    "![](gifs/bubble_sort_list_1_20.gif)"
   ]
  },
  {
   "cell_type": "code",
   "execution_count": 3,
   "metadata": {},
   "outputs": [
    {
     "name": "stderr",
     "output_type": "stream",
     "text": [
      "100%|██████████| 35/35 [02:18<00:00,  1.44it/s]\n"
     ]
    }
   ],
   "source": [
    "ap = algopy()\n",
    "ap.custom_save_name = True\n",
    "ap.save_name = 'bubble_sort_YlGn'\n",
    "ap.colormap = 'YlGn'\n",
    "ap.fps = 20\n",
    "ap.track_operations = False\n",
    "ap.show_xlable = False\n",
    "ap.show_title = False\n",
    "\n",
    "shape = (6,6)\n",
    "array = random_array(shape)\n",
    "ap.bubbleSort(array)"
   ]
  },
  {
   "cell_type": "markdown",
   "metadata": {},
   "source": [
    "![test](gifs/bubble_sort_YlGn.gif)"
   ]
  },
  {
   "cell_type": "code",
   "execution_count": 4,
   "metadata": {},
   "outputs": [
    {
     "name": "stderr",
     "output_type": "stream",
     "text": [
      "100%|██████████| 35/35 [01:15<00:00,  3.20s/it]\n"
     ]
    }
   ],
   "source": [
    "ap = algopy()\n",
    "ap.custom_save_name = True\n",
    "ap.save_name = 'insertion_sort_wistia'\n",
    "ap.colormap = 'Wistia'\n",
    "ap.fps = 5\n",
    "ap.rectangle_color_1 = 'steelblue'\n",
    "ap.show_xlable = False\n",
    "ap.show_title = False\n",
    "\n",
    "shape = (6,6)\n",
    "array = random_array(shape)\n",
    "ap.insertionSort(array)"
   ]
  },
  {
   "cell_type": "markdown",
   "metadata": {},
   "source": [
    "![test](gifs/insertion_sort_wistia.gif)"
   ]
  },
  {
   "cell_type": "code",
   "execution_count": 5,
   "metadata": {},
   "outputs": [
    {
     "name": "stderr",
     "output_type": "stream",
     "text": [
      "100%|██████████| 35/35 [01:17<00:00,  3.39s/it]\n"
     ]
    }
   ],
   "source": [
    "ap = algopy()\n",
    "ap.custom_save_name = True\n",
    "ap.save_name = 'insertion_sort_grey'\n",
    "ap.colormap = 'Greys'\n",
    "ap.fps = 5\n",
    "ap.rectangle_color_1 = 'hotpink'\n",
    "ap.show_xlable = False\n",
    "ap.show_title = False\n",
    "\n",
    "shape = (6,6)\n",
    "array = random_array(shape)\n",
    "ap.insertionSort(array)"
   ]
  },
  {
   "cell_type": "markdown",
   "metadata": {},
   "source": [
    "![test](gifs/insertion_sort_grey.gif)"
   ]
  },
  {
   "cell_type": "code",
   "execution_count": 6,
   "metadata": {},
   "outputs": [
    {
     "name": "stderr",
     "output_type": "stream",
     "text": [
      "100%|██████████| 35/35 [01:15<00:00,  3.64s/it]\n"
     ]
    }
   ],
   "source": [
    "ap = algopy()\n",
    "ap.custom_save_name = True\n",
    "ap.save_name = 'insertion_sort_reds'\n",
    "ap.colormap = 'Reds'\n",
    "ap.fps = 5\n",
    "ap.rectangle_color_1 = 'steelblue'\n",
    "ap.show_xlable = False\n",
    "ap.show_title = False\n",
    "\n",
    "shape = (6,6)\n",
    "array = random_array(shape)\n",
    "ap.insertionSort(array)"
   ]
  },
  {
   "cell_type": "markdown",
   "metadata": {},
   "source": [
    "![test](gifs/insertion_sort_reds.gif)"
   ]
  },
  {
   "cell_type": "code",
   "execution_count": 7,
   "metadata": {},
   "outputs": [
    {
     "name": "stderr",
     "output_type": "stream",
     "text": [
      "100%|██████████| 35/35 [01:09<00:00,  3.03s/it]\n"
     ]
    }
   ],
   "source": [
    "ap = algopy()\n",
    "ap.custom_save_name = True\n",
    "ap.save_name = 'insertion_sort_blues'\n",
    "ap.colormap = 'Blues'\n",
    "ap.fps = 5\n",
    "ap.rectangle_color_1 = 'maroon'\n",
    "ap.show_xlable = False\n",
    "ap.show_title = False\n",
    "\n",
    "shape = (6,6)\n",
    "array = random_array(shape)\n",
    "ap.insertionSort(array)"
   ]
  },
  {
   "cell_type": "markdown",
   "metadata": {},
   "source": [
    "![test](gifs/insertion_sort_blues.gif)"
   ]
  },
  {
   "cell_type": "code",
   "execution_count": 8,
   "metadata": {},
   "outputs": [
    {
     "name": "stderr",
     "output_type": "stream",
     "text": [
      "100%|██████████| 35/35 [02:12<00:00,  1.44it/s]\n"
     ]
    }
   ],
   "source": [
    "ap = algopy()\n",
    "ap.custom_save_name = True\n",
    "ap.save_name = 'bubble_sort_cool'\n",
    "ap.colormap = 'cool'\n",
    "ap.rectangle_color_1 = 'black'\n",
    "ap.rectangle_color_2 = 'gold'\n",
    "ap.show_xlable = False\n",
    "ap.show_title = False\n",
    "\n",
    "shape = (6,6)\n",
    "array = random_array(shape)\n",
    "ap.bubbleSort(array)"
   ]
  },
  {
   "cell_type": "markdown",
   "metadata": {},
   "source": [
    "![](gifs/bubble_sort_cool.gif)"
   ]
  },
  {
   "cell_type": "code",
   "execution_count": 9,
   "metadata": {},
   "outputs": [
    {
     "name": "stderr",
     "output_type": "stream",
     "text": [
      "100%|██████████| 19/19 [00:26<00:00,  2.26it/s]\n"
     ]
    }
   ],
   "source": [
    "ap = algopy()\n",
    "ap.custom_save_name = True\n",
    "ap.save_name = 'insertion_sort_1_20'\n",
    "ap.show_xlable = False\n",
    "ap.show_title = False\n",
    "shape = (1,20)\n",
    "array = random_array(shape)\n",
    "ap.bubbleSort(array)"
   ]
  },
  {
   "cell_type": "markdown",
   "metadata": {},
   "source": [
    "![](gifs/insertion_sort_1_20.gif)"
   ]
  },
  {
   "cell_type": "code",
   "execution_count": 10,
   "metadata": {},
   "outputs": [
    {
     "name": "stderr",
     "output_type": "stream",
     "text": [
      "100%|██████████| 9/9 [00:04<00:00,  2.06it/s]\n"
     ]
    }
   ],
   "source": [
    "ap = algopy()\n",
    "ap.custom_save_name = True\n",
    "ap.save_name = 'insertion_sort_2_4'\n",
    "ap.show_xlable = False\n",
    "ap.show_title = False\n",
    "shape = (2,5)\n",
    "array = random_array(shape)\n",
    "ap.bubbleSort(array)"
   ]
  },
  {
   "cell_type": "markdown",
   "metadata": {},
   "source": [
    "![](gifs/insertion_sort_2_4.gif)"
   ]
  },
  {
   "cell_type": "code",
   "execution_count": 12,
   "metadata": {},
   "outputs": [
    {
     "name": "stderr",
     "output_type": "stream",
     "text": [
      "100%|██████████| 19/19 [00:27<00:00,  1.82it/s]\n"
     ]
    }
   ],
   "source": [
    "ap = algopy()\n",
    "ap.custom_save_name = True\n",
    "ap.save_name = 'insertion_sort_20_1'\n",
    "ap.show_xlable = False\n",
    "ap.show_title = False\n",
    "shape = (20,1)\n",
    "array = random_array(shape)\n",
    "ap.bubbleSort(array)"
   ]
  },
  {
   "cell_type": "markdown",
   "metadata": {},
   "source": [
    "![](gifs/insertion_sort_20_1.gif)"
   ]
  }
 ],
 "metadata": {
  "kernelspec": {
   "display_name": "Python 3",
   "language": "python",
   "name": "python3"
  },
  "language_info": {
   "codemirror_mode": {
    "name": "ipython",
    "version": 3
   },
   "file_extension": ".py",
   "mimetype": "text/x-python",
   "name": "python",
   "nbconvert_exporter": "python",
   "pygments_lexer": "ipython3",
   "version": "3.7.1"
  }
 },
 "nbformat": 4,
 "nbformat_minor": 2
}
