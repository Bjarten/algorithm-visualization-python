{
 "cells": [
  {
   "cell_type": "code",
   "execution_count": 1,
   "metadata": {},
   "outputs": [],
   "source": [
    "from algorithm_visualizer import alvito\n",
    "from utils import random_array"
   ]
  },
  {
   "cell_type": "code",
   "execution_count": 2,
   "metadata": {},
   "outputs": [
    {
     "name": "stderr",
     "output_type": "stream",
     "text": [
      "100%|██████████| 19/19 [00:29<00:00,  1.88it/s]\n"
     ]
    }
   ],
   "source": [
    "avo = alvito()\n",
    "avo.custom_save_name = True\n",
    "avo.save_name = 'bubble_sort_list'\n",
    "avo.fps = 1\n",
    "avo.xlable_fontsize = 12\n",
    "avo.title_fontsize = 12\n",
    "\n",
    "array = [1,18,16,2,9,6,12,4,19,17,14,3,10,20,5,13,8,11,15,7]\n",
    "avo.bubbleSort(array)"
   ]
  },
  {
   "cell_type": "markdown",
   "metadata": {},
   "source": [
    "![](gifs/bubble_sort_list.gif)"
   ]
  },
  {
   "cell_type": "code",
   "execution_count": 3,
   "metadata": {},
   "outputs": [
    {
     "name": "stderr",
     "output_type": "stream",
     "text": [
      "100%|██████████| 35/35 [02:05<00:00,  1.51it/s]\n"
     ]
    }
   ],
   "source": [
    "avo = alvito()\n",
    "avo.custom_save_name = True\n",
    "avo.save_name = 'bubble_sort_YlGn'\n",
    "avo.colormap = 'YlGn'\n",
    "avo.fps = 20\n",
    "avo.track_operations = False\n",
    "avo.show_xlable = False\n",
    "avo.show_title = False\n",
    "\n",
    "shape = (6,6)\n",
    "array = random_array(shape)\n",
    "avo.bubbleSort(array)"
   ]
  },
  {
   "cell_type": "markdown",
   "metadata": {},
   "source": [
    "![test](gifs/bubble_sort_YlGn.gif)"
   ]
  },
  {
   "cell_type": "code",
   "execution_count": 4,
   "metadata": {},
   "outputs": [
    {
     "name": "stderr",
     "output_type": "stream",
     "text": [
      "100%|██████████| 35/35 [01:08<00:00,  3.00s/it]\n"
     ]
    }
   ],
   "source": [
    "avo = alvito()\n",
    "avo.custom_save_name = True\n",
    "avo.save_name = 'insertion_sort_wistia'\n",
    "avo.colormap = 'Wistia'\n",
    "avo.fps = 5\n",
    "avo.rectangle_color_1 = 'steelblue'\n",
    "avo.show_xlable = False\n",
    "avo.show_title = False\n",
    "\n",
    "shape = (6,6)\n",
    "array = random_array(shape)\n",
    "avo.insertionSort(array)"
   ]
  },
  {
   "cell_type": "markdown",
   "metadata": {},
   "source": [
    "![test](gifs/insertion_sort_wistia.gif)"
   ]
  },
  {
   "cell_type": "code",
   "execution_count": 5,
   "metadata": {},
   "outputs": [
    {
     "name": "stderr",
     "output_type": "stream",
     "text": [
      "100%|██████████| 35/35 [01:10<00:00,  3.02s/it]\n"
     ]
    }
   ],
   "source": [
    "avo = alvito()\n",
    "avo.custom_save_name = True\n",
    "avo.save_name = 'insertion_sort_grey'\n",
    "avo.colormap = 'Greys'\n",
    "avo.fps = 5\n",
    "avo.rectangle_color_1 = 'hotpink'\n",
    "avo.show_xlable = False\n",
    "avo.show_title = False\n",
    "\n",
    "shape = (6,6)\n",
    "array = random_array(shape)\n",
    "avo.insertionSort(array)"
   ]
  },
  {
   "cell_type": "markdown",
   "metadata": {},
   "source": [
    "![test](gifs/insertion_sort_grey.gif)"
   ]
  },
  {
   "cell_type": "code",
   "execution_count": 6,
   "metadata": {},
   "outputs": [
    {
     "name": "stderr",
     "output_type": "stream",
     "text": [
      "100%|██████████| 35/35 [01:09<00:00,  3.08s/it]\n"
     ]
    }
   ],
   "source": [
    "avo = alvito()\n",
    "avo.custom_save_name = True\n",
    "avo.save_name = 'insertion_sort_reds'\n",
    "avo.colormap = 'Reds'\n",
    "avo.fps = 5\n",
    "avo.rectangle_color_1 = 'steelblue'\n",
    "avo.show_xlable = False\n",
    "avo.show_title = False\n",
    "\n",
    "shape = (6,6)\n",
    "array = random_array(shape)\n",
    "avo.insertionSort(array)"
   ]
  },
  {
   "cell_type": "markdown",
   "metadata": {},
   "source": [
    "![test](gifs/insertion_sort_reds.gif)"
   ]
  },
  {
   "cell_type": "code",
   "execution_count": 7,
   "metadata": {},
   "outputs": [
    {
     "name": "stderr",
     "output_type": "stream",
     "text": [
      "100%|██████████| 35/35 [01:08<00:00,  3.01s/it]\n"
     ]
    }
   ],
   "source": [
    "avo = alvito()\n",
    "avo.custom_save_name = True\n",
    "avo.save_name = 'insertion_sort_blues'\n",
    "avo.colormap = 'Blues'\n",
    "avo.fps = 5\n",
    "avo.rectangle_color_1 = 'maroon'\n",
    "avo.show_xlable = False\n",
    "avo.show_title = False\n",
    "\n",
    "shape = (6,6)\n",
    "array = random_array(shape)\n",
    "avo.insertionSort(array)"
   ]
  },
  {
   "cell_type": "markdown",
   "metadata": {},
   "source": [
    "![test](gifs/insertion_sort_blues.gif)"
   ]
  },
  {
   "cell_type": "code",
   "execution_count": 8,
   "metadata": {},
   "outputs": [
    {
     "name": "stderr",
     "output_type": "stream",
     "text": [
      "100%|██████████| 35/35 [02:07<00:00,  1.51it/s]\n"
     ]
    }
   ],
   "source": [
    "avo = alvito()\n",
    "avo.custom_save_name = True\n",
    "avo.save_name = 'bubble_sort_cool'\n",
    "avo.colormap = 'cool'\n",
    "avo.rectangle_color_1 = 'black'\n",
    "avo.rectangle_color_2 = 'gold'\n",
    "avo.show_xlable = False\n",
    "avo.show_title = False\n",
    "\n",
    "shape = (6,6)\n",
    "array = random_array(shape)\n",
    "avo.bubbleSort(array)"
   ]
  },
  {
   "cell_type": "markdown",
   "metadata": {},
   "source": [
    "![](gifs/bubble_sort_cool.gif)"
   ]
  },
  {
   "cell_type": "code",
   "execution_count": 9,
   "metadata": {},
   "outputs": [
    {
     "name": "stderr",
     "output_type": "stream",
     "text": [
      "100%|██████████| 19/19 [00:12<00:00,  1.54s/it]\n"
     ]
    }
   ],
   "source": [
    "avo = alvito()\n",
    "avo.custom_save_name = True\n",
    "avo.save_name = 'insertion_sort_1_20'\n",
    "avo.show_xlable = False\n",
    "avo.show_title = False\n",
    "\n",
    "shape = (1,20)\n",
    "array = random_array(shape)\n",
    "avo.insertionSort(array)"
   ]
  },
  {
   "cell_type": "markdown",
   "metadata": {},
   "source": [
    "![](gifs/insertion_sort_1_20.gif)"
   ]
  },
  {
   "cell_type": "code",
   "execution_count": 10,
   "metadata": {},
   "outputs": [
    {
     "name": "stderr",
     "output_type": "stream",
     "text": [
      "100%|██████████| 9/9 [00:01<00:00,  4.26it/s]\n"
     ]
    }
   ],
   "source": [
    "avo = alvito()\n",
    "avo.custom_save_name = True\n",
    "avo.save_name = 'insertion_sort_2_4'\n",
    "avo.show_xlable = False\n",
    "avo.show_title = False\n",
    "\n",
    "shape = (2,5)\n",
    "array = random_array(shape)\n",
    "avo.insertionSort(array)"
   ]
  },
  {
   "cell_type": "markdown",
   "metadata": {},
   "source": [
    "![](gifs/insertion_sort_2_4.gif)"
   ]
  },
  {
   "cell_type": "code",
   "execution_count": 11,
   "metadata": {},
   "outputs": [
    {
     "name": "stderr",
     "output_type": "stream",
     "text": [
      "100%|██████████| 19/19 [00:11<00:00,  1.11s/it]\n"
     ]
    }
   ],
   "source": [
    "avo = alvito()\n",
    "avo.custom_save_name = True\n",
    "avo.save_name = 'insertion_sort_20_1'\n",
    "avo.show_xlable = False\n",
    "avo.show_title = False\n",
    "\n",
    "shape = (20,1)\n",
    "array = random_array(shape)\n",
    "avo.insertionSort(array)"
   ]
  },
  {
   "cell_type": "markdown",
   "metadata": {},
   "source": [
    "![](gifs/insertion_sort_20_1.gif)"
   ]
  }
 ],
 "metadata": {
  "kernelspec": {
   "display_name": "Python 3",
   "language": "python",
   "name": "python3"
  },
  "language_info": {
   "codemirror_mode": {
    "name": "ipython",
    "version": 3
   },
   "file_extension": ".py",
   "mimetype": "text/x-python",
   "name": "python",
   "nbconvert_exporter": "python",
   "pygments_lexer": "ipython3",
   "version": "3.7.1"
  }
 },
 "nbformat": 4,
 "nbformat_minor": 2
}
